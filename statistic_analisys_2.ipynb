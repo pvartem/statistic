{
 "cells": [
  {
   "cell_type": "code",
   "execution_count": 1,
   "metadata": {},
   "outputs": [],
   "source": [
    "import random\n",
    "\n",
    "from scipy import stats\n",
    "from scipy.stats import ttest_ind\n",
    "import scipy.stats as st\n",
    "\n",
    "import numpy as np\n",
    "import pandas as pd\n",
    "\n",
    "import matplotlib.pyplot as plt\n",
    "import seaborn as sns\n",
    "\n",
    "%matplotlib inline"
   ]
  },
  {
   "cell_type": "code",
   "execution_count": 2,
   "metadata": {},
   "outputs": [],
   "source": [
    "filename = \"dataDescriptiveStatistics.csv\""
   ]
  },
  {
   "cell_type": "code",
   "execution_count": 3,
   "metadata": {},
   "outputs": [
    {
     "data": {
      "text/html": [
       "<div>\n",
       "<style scoped>\n",
       "    .dataframe tbody tr th:only-of-type {\n",
       "        vertical-align: middle;\n",
       "    }\n",
       "\n",
       "    .dataframe tbody tr th {\n",
       "        vertical-align: top;\n",
       "    }\n",
       "\n",
       "    .dataframe thead th {\n",
       "        text-align: right;\n",
       "    }\n",
       "</style>\n",
       "<table border=\"1\" class=\"dataframe\">\n",
       "  <thead>\n",
       "    <tr style=\"text-align: right;\">\n",
       "      <th></th>\n",
       "      <th>Distance</th>\n",
       "      <th>Class</th>\n",
       "      <th>GenDistance</th>\n",
       "      <th>Gender</th>\n",
       "    </tr>\n",
       "  </thead>\n",
       "  <tbody>\n",
       "    <tr>\n",
       "      <th>0</th>\n",
       "      <td>693.187252</td>\n",
       "      <td>music</td>\n",
       "      <td>699</td>\n",
       "      <td>0</td>\n",
       "    </tr>\n",
       "    <tr>\n",
       "      <th>1</th>\n",
       "      <td>695.476117</td>\n",
       "      <td>math</td>\n",
       "      <td>704</td>\n",
       "      <td>1</td>\n",
       "    </tr>\n",
       "    <tr>\n",
       "      <th>2</th>\n",
       "      <td>808.722787</td>\n",
       "      <td>art</td>\n",
       "      <td>719</td>\n",
       "      <td>1</td>\n",
       "    </tr>\n",
       "    <tr>\n",
       "      <th>3</th>\n",
       "      <td>862.737524</td>\n",
       "      <td>music</td>\n",
       "      <td>783</td>\n",
       "      <td>1</td>\n",
       "    </tr>\n",
       "    <tr>\n",
       "      <th>4</th>\n",
       "      <td>894.073869</td>\n",
       "      <td>art</td>\n",
       "      <td>828</td>\n",
       "      <td>0</td>\n",
       "    </tr>\n",
       "  </tbody>\n",
       "</table>\n",
       "</div>"
      ],
      "text/plain": [
       "     Distance  Class  GenDistance  Gender\n",
       "0  693.187252  music          699       0\n",
       "1  695.476117   math          704       1\n",
       "2  808.722787    art          719       1\n",
       "3  862.737524  music          783       1\n",
       "4  894.073869    art          828       0"
      ]
     },
     "execution_count": 3,
     "metadata": {},
     "output_type": "execute_result"
    }
   ],
   "source": [
    "df = pd.read_csv(filename, sep=';')\n",
    "gen = [random.randint(int(df['Distance'].min()), int(df['Distance'].max())) for _ in range(0, df.shape[0])]\n",
    "gen.sort()\n",
    "df['GenDistance'] = gen\n",
    "df['Gender'] = [random.choice([0, 1]) for _ in range(0, df.shape[0])]\n",
    "df['Class'] = [random.choice(['art', 'music', 'math']) for _ in range(0, df.shape[0])] \n",
    "df.head()"
   ]
  },
  {
   "cell_type": "code",
   "execution_count": null,
   "metadata": {},
   "outputs": [],
   "source": [
    "# данные: номинальные (базовые, группы), порядковые, интервальные\n",
    "\n",
    "# номинальные: не применимы способы расчета метрические (станд.откл, среднее и тд)\n",
    "# порядковые: (должны быть равного порядка)\n",
    "# интервальные: все возможные статистики"
   ]
  },
  {
   "cell_type": "markdown",
   "metadata": {},
   "source": [
    "# Базовые статистики"
   ]
  },
  {
   "cell_type": "code",
   "execution_count": 5,
   "metadata": {
    "tags": []
   },
   "outputs": [],
   "source": [
    "# определение кол-ва интервалов\n",
    "\n",
    "# по кол-ву интервалом (простые)\n",
    "# метод Стеджеса\n",
    "def studges(n):\n",
    "    return 1 + np.log(n)\n",
    "\n",
    "def smpl(n):\n",
    "    return np.sqrt(n)\n",
    "\n",
    "# по ширине\n",
    "# метод Скотта\n",
    "def scott(n: np.array):\n",
    "    std = np.std(n)\n",
    "    return 3.5 * (std / np.power(len(n), 1./3))\n",
    "    \n",
    "# Метод Фридмана - Диакониса \n",
    "def fdm(n: np.array):\n",
    "    return (2*3.14) / np.power(len(n), 1./3)"
   ]
  },
  {
   "cell_type": "markdown",
   "metadata": {},
   "source": [
    "# Статистические критерии"
   ]
  },
  {
   "cell_type": "code",
   "execution_count": 6,
   "metadata": {},
   "outputs": [
    {
     "data": {
      "text/plain": [
       "[<matplotlib.lines.Line2D at 0x16c46efab50>]"
      ]
     },
     "execution_count": 6,
     "metadata": {},
     "output_type": "execute_result"
    },
    {
     "data": {
      "image/png": "[encoded data removed]",
      "text/plain": [
       "<Figure size 432x288 with 1 Axes>"
      ]
     },
     "metadata": {
      "needs_background": "light"
     },
     "output_type": "display_data"
    }
   ],
   "source": [
    "plt.plot(df['Distance'])\n",
    "plt.plot(df['GenDistance'])"
   ]
  },
  {
   "cell_type": "code",
   "execution_count": 7,
   "metadata": {},
   "outputs": [
    {
     "name": "stderr",
     "output_type": "stream",
     "text": [
      "C:\\Program Files\\Python38\\lib\\site-packages\\seaborn\\distributions.py:2551: FutureWarning: `distplot` is a deprecated function and will be removed in a future version. Please adapt your code to use either `displot` (a figure-level function with similar flexibility) or `histplot` (an axes-level function for histograms).\n",
      "  warnings.warn(msg, FutureWarning)\n",
      "C:\\Program Files\\Python38\\lib\\site-packages\\seaborn\\distributions.py:2551: FutureWarning: `distplot` is a deprecated function and will be removed in a future version. Please adapt your code to use either `displot` (a figure-level function with similar flexibility) or `histplot` (an axes-level function for histograms).\n",
      "  warnings.warn(msg, FutureWarning)\n"
     ]
    },
    {
     "data": {
      "text/plain": [
       "<AxesSubplot:xlabel='GenDistance', ylabel='Density'>"
      ]
     },
     "execution_count": 7,
     "metadata": {},
     "output_type": "execute_result"
    },
    {
     "data": {
      "image/png": "[encoded data removed]",
      "text/plain": [
       "<Figure size 432x288 with 1 Axes>"
      ]
     },
     "metadata": {
      "needs_background": "light"
     },
     "output_type": "display_data"
    }
   ],
   "source": [
    "sns.distplot(df['Distance'])\n",
    "sns.distplot(df['GenDistance'])"
   ]
  },
  {
   "cell_type": "code",
   "execution_count": 7,
   "metadata": {},
   "outputs": [],
   "source": [
    "# сделать проверку на нормальное или экспоненциальное распределение !!!!!!!!!!!"
   ]
  },
  {
   "cell_type": "code",
   "execution_count": 8,
   "metadata": {},
   "outputs": [],
   "source": [
    "# Свойства статистического критерия\n",
    "# - применим для данной ситуации\n",
    "# - мощность критерия (1-B)\n",
    "# - состоятельность критерия (1-B стремится к 1)\n",
    "# - не смещенность (1-B > a)"
   ]
  },
  {
   "cell_type": "code",
   "execution_count": 9,
   "metadata": {},
   "outputs": [],
   "source": [
    "# алгоритм проверки (по критерию)\n",
    "# 1 - определяем уровень значимости\n",
    "# 2 - считаем значение t для уровня значимости из шага 1\n",
    "# 3 - считаем по выборке статистику критерия (если T(выборка)>t или T(выборка)<t, то отвергаем гипотезу 0)"
   ]
  },
  {
   "cell_type": "code",
   "execution_count": 10,
   "metadata": {},
   "outputs": [],
   "source": [
    "# алгоритм проверки (c p-value)\n",
    "# 1 - определяем уровень значимости\n",
    "# 2 - считаем значение статистики\n",
    "# 3 - считаем уровень значимости критерия\n",
    "# 4 - сравниваем, если p < a, то отвергаем 0 гипотезу"
   ]
  },
  {
   "cell_type": "code",
   "execution_count": 11,
   "metadata": {},
   "outputs": [],
   "source": [
    "# метод Монте-Карло\n",
    "# 1 - формулируем гипотезу 0\n",
    "# 2 - выбираем кретерий со статистикой\n",
    "# 3 - моделируем выборку данных\n",
    "# 4 - считаем статистику (повторяем шаги 3 - 4 много раз)"
   ]
  },
  {
   "cell_type": "markdown",
   "metadata": {},
   "source": [
    "### критические значения"
   ]
  },
  {
   "cell_type": "code",
   "execution_count": 8,
   "metadata": {},
   "outputs": [
    {
     "name": "stdout",
     "output_type": "stream",
     "text": [
      "1.6448536269514722\n",
      "0.95\n"
     ]
    }
   ],
   "source": [
    "# Gaussian Percent Point Function\n",
    "from scipy.stats import norm\n",
    "# define probability\n",
    "p = 0.95\n",
    "# retrieve value <= probability\n",
    "value = norm.ppf(p)\n",
    "print(value)\n",
    "# confirm with cdf\n",
    "p = norm.cdf(value)\n",
    "print(p)"
   ]
  },
  {
   "cell_type": "code",
   "execution_count": 9,
   "metadata": {},
   "outputs": [
    {
     "name": "stdout",
     "output_type": "stream",
     "text": [
      "1.8124611228107335\n",
      "0.949999999999923\n"
     ]
    }
   ],
   "source": [
    "# Student t-distribution Percent Point Function\n",
    "from scipy.stats import t\n",
    "# define probability\n",
    "p = 0.95\n",
    "df = 10\n",
    "# retrieve value <= probability\n",
    "value = t.ppf(p, df)\n",
    "print(value)\n",
    "# confirm with cdf\n",
    "p = t.cdf(value, df)\n",
    "print(p)"
   ]
  },
  {
   "cell_type": "code",
   "execution_count": 10,
   "metadata": {},
   "outputs": [
    {
     "name": "stdout",
     "output_type": "stream",
     "text": [
      "18.307038053275146\n",
      "0.95\n"
     ]
    }
   ],
   "source": [
    "# Chi-Squared Percent Point Function\n",
    "from scipy.stats import chi2\n",
    "# define probability\n",
    "p = 0.95\n",
    "df = 10\n",
    "# retrieve value <= probability\n",
    "value = chi2.ppf(p, df)\n",
    "print(value)\n",
    "# confirm with cdf\n",
    "p = chi2.cdf(value, df)\n",
    "print(p)"
   ]
  },
  {
   "cell_type": "markdown",
   "metadata": {},
   "source": [
    "## p-value test"
   ]
  },
  {
   "cell_type": "code",
   "execution_count": 12,
   "metadata": {},
   "outputs": [],
   "source": [
    "df = pd.read_csv(filename, sep=';')\n",
    "gen = [random.randint(int(df['Distance'].min()), int(df['Distance'].max())) for _ in range(0, df.shape[0])]\n",
    "gen.sort()\n",
    "df['GenDistance'] = gen\n",
    "df['Gender'] = [random.choice([0, 1]) for _ in range(0, df.shape[0])]\n",
    "df['Class'] = [random.choice(['art', 'music', 'math']) for _ in range(0, df.shape[0])] "
   ]
  },
  {
   "cell_type": "code",
   "execution_count": 13,
   "metadata": {},
   "outputs": [
    {
     "name": "stdout",
     "output_type": "stream",
     "text": [
      "t =  -16.268290121865796\n",
      "p =  1.999998\n",
      "p-value is  True\n",
      "t =  -16.268290121865796\n",
      "p =  1.3568287360310254e-54\n",
      "p-value is  True\n"
     ]
    }
   ],
   "source": [
    "# определяем размер и данные\n",
    "N = df.shape[0]\n",
    "a = df['Distance'].values\n",
    "b = df['GenDistance'].values\n",
    "\n",
    "# Расчет стандартного отклонения и вариации\n",
    "# var\n",
    "var_a = a.var(ddof=1)\n",
    "var_b = b.var(ddof=1)\n",
    "\n",
    "# std (между a и b)\n",
    "s = np.sqrt((var_a + var_b)/2)\n",
    "\n",
    "# расчет t - статистики\n",
    "t = (a.mean() - b.mean())/(s*np.sqrt(2/N))\n",
    "\n",
    "# расчет уровней свободы\n",
    "deegrfreed = 2*N - 2\n",
    "\n",
    "#p-value после сравнения с t\n",
    "p = 1 - 0.000001 if stats.t.cdf(t, df=deegrfreed) < 0.000001 else stats.t.cdf(t, df=deegrfreed)\n",
    "\n",
    "print(\"t = \", t)\n",
    "print(\"p = \", 2*p)\n",
    "print(\"p-value is \", 2 * 0.95 <= 2*p)\n",
    "\n",
    "## расчет через функцию из либы\n",
    "t2, p2 = stats.ttest_ind(a,b)\n",
    "print(\"t = \", t2)\n",
    "print(\"p = \", p2)\n",
    "print(\"p-value is \", 2 * 0.05 >= 2*p2)\n"
   ]
  },
  {
   "cell_type": "markdown",
   "metadata": {},
   "source": [
    "## Гипотеза согласия ( распределение пренадлежит распределению - Х)"
   ]
  },
  {
   "cell_type": "markdown",
   "metadata": {},
   "source": [
    "Критерии оценки:\n",
    "    - общие (для любых законов распределения):\n",
    "        - согласия Хи-квадрад\n",
    "        - Колмогорова-Смирнова\n",
    "        - Андерсена-Дарлинга\n",
    "        - Крамера-Мизоса-Смирнова\n",
    "    - специальные (нормальность):\n",
    "        - Шапиро-Уилка\n",
    "    "
   ]
  },
  {
   "cell_type": "markdown",
   "metadata": {},
   "source": [
    "### хи-квадрад"
   ]
  },
  {
   "cell_type": "code",
   "execution_count": 37,
   "metadata": {},
   "outputs": [],
   "source": [
    "# 1 - разбиваем область на интервалы(k)\n",
    "# 2 - считаем кол-во наблюдений в каждом интервале (ni)\n",
    "# 3 - считаем частоту попадания в каждый интервал(ni/n)\n",
    "# 4 - считаем теоритическую вероятность попадания ni в интервалы"
   ]
  },
  {
   "cell_type": "code",
   "execution_count": 20,
   "metadata": {},
   "outputs": [
    {
     "data": {
      "text/html": [
       "<div>\n",
       "<style scoped>\n",
       "    .dataframe tbody tr th:only-of-type {\n",
       "        vertical-align: middle;\n",
       "    }\n",
       "\n",
       "    .dataframe tbody tr th {\n",
       "        vertical-align: top;\n",
       "    }\n",
       "\n",
       "    .dataframe thead th {\n",
       "        text-align: right;\n",
       "    }\n",
       "</style>\n",
       "<table border=\"1\" class=\"dataframe\">\n",
       "  <thead>\n",
       "    <tr style=\"text-align: right;\">\n",
       "      <th></th>\n",
       "      <th>Distance</th>\n",
       "      <th>Class</th>\n",
       "      <th>GenDistance</th>\n",
       "      <th>Gender</th>\n",
       "    </tr>\n",
       "  </thead>\n",
       "  <tbody>\n",
       "    <tr>\n",
       "      <th>0</th>\n",
       "      <td>693.187252</td>\n",
       "      <td>math</td>\n",
       "      <td>697</td>\n",
       "      <td>0</td>\n",
       "    </tr>\n",
       "    <tr>\n",
       "      <th>1</th>\n",
       "      <td>695.476117</td>\n",
       "      <td>math</td>\n",
       "      <td>834</td>\n",
       "      <td>1</td>\n",
       "    </tr>\n",
       "    <tr>\n",
       "      <th>2</th>\n",
       "      <td>808.722787</td>\n",
       "      <td>music</td>\n",
       "      <td>841</td>\n",
       "      <td>0</td>\n",
       "    </tr>\n",
       "    <tr>\n",
       "      <th>3</th>\n",
       "      <td>862.737524</td>\n",
       "      <td>music</td>\n",
       "      <td>876</td>\n",
       "      <td>0</td>\n",
       "    </tr>\n",
       "    <tr>\n",
       "      <th>4</th>\n",
       "      <td>894.073869</td>\n",
       "      <td>art</td>\n",
       "      <td>944</td>\n",
       "      <td>1</td>\n",
       "    </tr>\n",
       "  </tbody>\n",
       "</table>\n",
       "</div>"
      ],
      "text/plain": [
       "     Distance  Class  GenDistance  Gender\n",
       "0  693.187252   math          697       0\n",
       "1  695.476117   math          834       1\n",
       "2  808.722787  music          841       0\n",
       "3  862.737524  music          876       0\n",
       "4  894.073869    art          944       1"
      ]
     },
     "execution_count": 20,
     "metadata": {},
     "output_type": "execute_result"
    }
   ],
   "source": [
    "df.head()"
   ]
  },
  {
   "cell_type": "code",
   "execution_count": 21,
   "metadata": {},
   "outputs": [
    {
     "data": {
      "text/html": [
       "<div>\n",
       "<style scoped>\n",
       "    .dataframe tbody tr th:only-of-type {\n",
       "        vertical-align: middle;\n",
       "    }\n",
       "\n",
       "    .dataframe tbody tr th {\n",
       "        vertical-align: top;\n",
       "    }\n",
       "\n",
       "    .dataframe thead th {\n",
       "        text-align: right;\n",
       "    }\n",
       "</style>\n",
       "<table border=\"1\" class=\"dataframe\">\n",
       "  <thead>\n",
       "    <tr style=\"text-align: right;\">\n",
       "      <th>Class</th>\n",
       "      <th>art</th>\n",
       "      <th>math</th>\n",
       "      <th>music</th>\n",
       "    </tr>\n",
       "    <tr>\n",
       "      <th>Gender</th>\n",
       "      <th></th>\n",
       "      <th></th>\n",
       "      <th></th>\n",
       "    </tr>\n",
       "  </thead>\n",
       "  <tbody>\n",
       "    <tr>\n",
       "      <th>0</th>\n",
       "      <td>10398.429752</td>\n",
       "      <td>9518.644231</td>\n",
       "      <td>10116.319328</td>\n",
       "    </tr>\n",
       "    <tr>\n",
       "      <th>1</th>\n",
       "      <td>8937.598291</td>\n",
       "      <td>10083.754237</td>\n",
       "      <td>9698.634783</td>\n",
       "    </tr>\n",
       "  </tbody>\n",
       "</table>\n",
       "</div>"
      ],
      "text/plain": [
       "Class            art          math         music\n",
       "Gender                                          \n",
       "0       10398.429752   9518.644231  10116.319328\n",
       "1        8937.598291  10083.754237   9698.634783"
      ]
     },
     "execution_count": 21,
     "metadata": {},
     "output_type": "execute_result"
    }
   ],
   "source": [
    "tbl = df.pivot_table(index=['Gender',], columns=['Class',], values='GenDistance', aggfunc='mean')\n",
    "tbl"
   ]
  },
  {
   "cell_type": "markdown",
   "metadata": {},
   "source": [
    "If Statistic >= Critical Value (If p-value <= alpha): значимость есть, отвергаем H0, есть зависимость \n",
    "\n",
    "If Statistic < Critical Value (If p-value > alpha): значимости нет, не отвегаем H0, независимые\n",
    "\n",
    "------------------------\n",
    "degrees of freedom: (rows - 1) * (cols - 1)"
   ]
  },
  {
   "cell_type": "code",
   "execution_count": 22,
   "metadata": {},
   "outputs": [
    {
     "name": "stdout",
     "output_type": "stream",
     "text": [
      "dof=2\n",
      "p=0\n",
      "probability=0.950, critical=5.991, stat=106.154\n",
      "Dependent (reject H0)\n",
      "significance=0.050, p=0.000\n",
      "Dependent (reject H0)\n"
     ]
    }
   ],
   "source": [
    "from scipy.stats import chi2_contingency\n",
    "from scipy.stats import chi2\n",
    "\n",
    "# таблицу в матрицу\n",
    "table = tbl.values\n",
    "\n",
    "# chi2\n",
    "stat, p, dof, expected = chi2_contingency(table)\n",
    "print('dof=%d' % dof)\n",
    "print('p=%d' % p)\n",
    "\n",
    "# test-statistic\n",
    "prob = 0.95\n",
    "critical = chi2.ppf(prob, dof)\n",
    "print('probability=%.3f, critical=%.3f, stat=%.3f' % (prob, critical, stat))\n",
    "\n",
    "if abs(stat) >= critical:\n",
    "    print('Dependent (reject H0)')\n",
    "else:\n",
    "    print('Independent (fail to reject H0)')\n",
    "\n",
    "#  p-value\n",
    "alpha = 1.0 - prob\n",
    "print('significance=%.3f, p=%.3f' % (alpha, p))\n",
    "\n",
    "if p <= alpha:\n",
    "    print('Dependent (reject H0)')\n",
    "else:\n",
    "    print('Independent (fail to reject H0)')"
   ]
  },
  {
   "cell_type": "markdown",
   "metadata": {},
   "source": [
    "### Колмогорова-Смирнова"
   ]
  },
  {
   "cell_type": "code",
   "execution_count": null,
   "metadata": {},
   "outputs": [],
   "source": [
    "# описывает расстояние между теоритической функции и эмперической (имеет наименьшую мощьность)\n",
    "# 1 - строим теоритическую функцию, которую хотим видеть в данных\n",
    "# 2 - строим функцию распределения по фактическим данным\n",
    "# 3 - считаем расстояния между фактической функцией и теоритической"
   ]
  },
  {
   "cell_type": "code",
   "execution_count": 23,
   "metadata": {},
   "outputs": [
    {
     "data": {
      "text/html": [
       "<div>\n",
       "<style scoped>\n",
       "    .dataframe tbody tr th:only-of-type {\n",
       "        vertical-align: middle;\n",
       "    }\n",
       "\n",
       "    .dataframe tbody tr th {\n",
       "        vertical-align: top;\n",
       "    }\n",
       "\n",
       "    .dataframe thead th {\n",
       "        text-align: right;\n",
       "    }\n",
       "</style>\n",
       "<table border=\"1\" class=\"dataframe\">\n",
       "  <thead>\n",
       "    <tr style=\"text-align: right;\">\n",
       "      <th></th>\n",
       "      <th>Distance</th>\n",
       "      <th>Class</th>\n",
       "      <th>GenDistance</th>\n",
       "      <th>Gender</th>\n",
       "    </tr>\n",
       "  </thead>\n",
       "  <tbody>\n",
       "    <tr>\n",
       "      <th>0</th>\n",
       "      <td>693.187252</td>\n",
       "      <td>math</td>\n",
       "      <td>697</td>\n",
       "      <td>0</td>\n",
       "    </tr>\n",
       "    <tr>\n",
       "      <th>1</th>\n",
       "      <td>695.476117</td>\n",
       "      <td>math</td>\n",
       "      <td>834</td>\n",
       "      <td>1</td>\n",
       "    </tr>\n",
       "    <tr>\n",
       "      <th>2</th>\n",
       "      <td>808.722787</td>\n",
       "      <td>music</td>\n",
       "      <td>841</td>\n",
       "      <td>0</td>\n",
       "    </tr>\n",
       "    <tr>\n",
       "      <th>3</th>\n",
       "      <td>862.737524</td>\n",
       "      <td>music</td>\n",
       "      <td>876</td>\n",
       "      <td>0</td>\n",
       "    </tr>\n",
       "    <tr>\n",
       "      <th>4</th>\n",
       "      <td>894.073869</td>\n",
       "      <td>art</td>\n",
       "      <td>944</td>\n",
       "      <td>1</td>\n",
       "    </tr>\n",
       "  </tbody>\n",
       "</table>\n",
       "</div>"
      ],
      "text/plain": [
       "     Distance  Class  GenDistance  Gender\n",
       "0  693.187252   math          697       0\n",
       "1  695.476117   math          834       1\n",
       "2  808.722787  music          841       0\n",
       "3  862.737524  music          876       0\n",
       "4  894.073869    art          944       1"
      ]
     },
     "execution_count": 23,
     "metadata": {},
     "output_type": "execute_result"
    }
   ],
   "source": [
    "df.head()"
   ]
  },
  {
   "cell_type": "code",
   "execution_count": 25,
   "metadata": {},
   "outputs": [
    {
     "name": "stdout",
     "output_type": "stream",
     "text": [
      "6143.467926097422 9802.472622478386\n"
     ]
    }
   ],
   "source": [
    "# берем средние\n",
    "g1 = df['Distance'].mean()\n",
    "g2 = df['GenDistance'].mean()\n",
    "print(g1, g2)"
   ]
  },
  {
   "cell_type": "code",
   "execution_count": 30,
   "metadata": {},
   "outputs": [
    {
     "name": "stdout",
     "output_type": "stream",
     "text": [
      "Independent (fail to reject H0)\n"
     ]
    }
   ],
   "source": [
    "stat, p =ttest_ind(df['Distance'].values, df['GenDistance'].values, equal_var=False)\n",
    "\n",
    "if p >= 0.05:\n",
    "    print('Dependent (reject H0)')\n",
    "else:\n",
    "    print('Independent (fail to reject H0)')"
   ]
  },
  {
   "cell_type": "code",
   "execution_count": 44,
   "metadata": {},
   "outputs": [
    {
     "name": "stderr",
     "output_type": "stream",
     "text": [
      "C:\\Program Files\\Python38\\lib\\site-packages\\seaborn\\distributions.py:2551: FutureWarning: `distplot` is a deprecated function and will be removed in a future version. Please adapt your code to use either `displot` (a figure-level function with similar flexibility) or `histplot` (an axes-level function for histograms).\n",
      "  warnings.warn(msg, FutureWarning)\n"
     ]
    },
    {
     "data": {
      "text/plain": [
       "<AxesSubplot:ylabel='Density'>"
      ]
     },
     "execution_count": 44,
     "metadata": {},
     "output_type": "execute_result"
    },
    {
     "data": {
      "image/png": "[encoded data removed]",
      "text/plain": [
       "<Figure size 432x288 with 1 Axes>"
      ]
     },
     "metadata": {
      "needs_background": "light"
     },
     "output_type": "display_data"
    }
   ],
   "source": [
    "# генерим базовые распределения\n",
    "norm_dist = np.random.normal(0, 1.0, size=df.shape[0])\n",
    "sns.distplot(norm_dist)"
   ]
  },
  {
   "cell_type": "code",
   "execution_count": 45,
   "metadata": {},
   "outputs": [
    {
     "name": "stderr",
     "output_type": "stream",
     "text": [
      "C:\\Program Files\\Python38\\lib\\site-packages\\seaborn\\distributions.py:2551: FutureWarning: `distplot` is a deprecated function and will be removed in a future version. Please adapt your code to use either `displot` (a figure-level function with similar flexibility) or `histplot` (an axes-level function for histograms).\n",
      "  warnings.warn(msg, FutureWarning)\n"
     ]
    },
    {
     "data": {
      "text/plain": [
       "<AxesSubplot:ylabel='Density'>"
      ]
     },
     "execution_count": 45,
     "metadata": {},
     "output_type": "execute_result"
    },
    {
     "data": {
      "image/png": "[encoded data removed]",
      "text/plain": [
       "<Figure size 432x288 with 1 Axes>"
      ]
     },
     "metadata": {
      "needs_background": "light"
     },
     "output_type": "display_data"
    }
   ],
   "source": [
    "exp_dist = np.arange(1/len(norm_dist), 1+1/len(norm_dist), 1/len(norm_dist))\n",
    "sns.distplot(exp_dist)"
   ]
  },
  {
   "cell_type": "code",
   "execution_count": 52,
   "metadata": {},
   "outputs": [],
   "source": [
    "#sort\n",
    "arr_1_sorted = np.sort(df['Distance'])\n",
    "#get cdf based on norm distribution\n",
    "cdf_null_hyp = [st.norm.cdf(x) for x in arr_1_sorted]"
   ]
  },
  {
   "cell_type": "code",
   "execution_count": 53,
   "metadata": {},
   "outputs": [
    {
     "data": {
      "text/plain": [
       "0.9985590778097982"
      ]
     },
     "execution_count": 53,
     "metadata": {},
     "output_type": "execute_result"
    }
   ],
   "source": [
    "#calculate absolute difference\n",
    "arr_dif_abs = np.abs(cdf_null_hyp - exp_dist)\n",
    "#get max different\n",
    "dn_ks = max(arr_dif_abs)\n",
    "dn_ks"
   ]
  },
  {
   "cell_type": "code",
   "execution_count": 54,
   "metadata": {},
   "outputs": [
    {
     "data": {
      "text/plain": [
       "0.05162489402407639"
      ]
     },
     "execution_count": 54,
     "metadata": {},
     "output_type": "execute_result"
    }
   ],
   "source": [
    "dn_crit = 1.36/np.sqrt(len(exp_dist))\n",
    "dn_crit"
   ]
  },
  {
   "cell_type": "code",
   "execution_count": 55,
   "metadata": {},
   "outputs": [
    {
     "data": {
      "image/png": "[encoded data removed]",
      "text/plain": [
       "<Figure size 720x360 with 1 Axes>"
      ]
     },
     "metadata": {
      "needs_background": "light"
     },
     "output_type": "display_data"
    }
   ],
   "source": [
    "plt.figure(figsize=(10, 5))\n",
    "plt.plot(arr_1_sorted, exp_dist, label='F_obs')\n",
    "plt.plot(arr_1_sorted, cdf_null_hyp, label='F_exp')\n",
    "for x, y1, y2 in zip(arr_1_sorted, exp_dist, cdf_null_hyp):\n",
    "    plt.plot([x, x], [y1, y2], color='green', alpha=0.4)\n",
    "plt.legend()\n",
    "plt.ylabel(\"F(x)\")\n",
    "plt.xlabel('x')\n",
    "plt.title(\"KS Goodness of Fit\")\n",
    "plt.show()"
   ]
  },
  {
   "cell_type": "code",
   "execution_count": null,
   "metadata": {},
   "outputs": [],
   "source": [
    "# для 2х семплов"
   ]
  },
  {
   "cell_type": "code",
   "execution_count": 56,
   "metadata": {},
   "outputs": [
    {
     "data": {
      "text/plain": [
       "array([  693.18725199,   695.47611729,   697.        , ...,\n",
       "       19279.        , 19284.        , 19293.82760054])"
      ]
     },
     "execution_count": 56,
     "metadata": {},
     "output_type": "execute_result"
    }
   ],
   "source": [
    "x_y = np.sort(np.concatenate((df['Distance'].values, df['GenDistance'].values)))\n",
    "x_y"
   ]
  },
  {
   "cell_type": "code",
   "execution_count": 62,
   "metadata": {},
   "outputs": [],
   "source": [
    "x_cdf = [np.round(st.percentileofscore(df['Distance'].values, samp)/100, 1) for samp in x_y]\n",
    "y_cdf = [np.round(st.percentileofscore(df['GenDistance'].values, samp)/100, 1) for samp in x_y]"
   ]
  },
  {
   "cell_type": "code",
   "execution_count": 63,
   "metadata": {},
   "outputs": [
    {
     "data": {
      "image/png": "[encoded data removed]",
      "text/plain": [
       "<Figure size 432x288 with 1 Axes>"
      ]
     },
     "metadata": {
      "needs_background": "light"
     },
     "output_type": "display_data"
    }
   ],
   "source": [
    "plt.plot(x_y, x_cdf, label='x', alpha=0.5, marker='o', color='red')\n",
    "plt.plot(x_y, y_cdf, label='y', alpha=0.5, marker='o', color='green')\n",
    "plt.show()"
   ]
  },
  {
   "cell_type": "code",
   "execution_count": 65,
   "metadata": {},
   "outputs": [
    {
     "name": "stdout",
     "output_type": "stream",
     "text": [
      "0.4\n"
     ]
    }
   ],
   "source": [
    "abs_diff_example = np.abs(np.subtract(x_cdf, y_cdf))\n",
    "print(max(abs_diff_example))"
   ]
  },
  {
   "cell_type": "code",
   "execution_count": 68,
   "metadata": {},
   "outputs": [],
   "source": [
    "def d_crit_two_way(arr1, arr2):\n",
    "    return 1.36*np.sqrt(len(arr1)**-1 + len(arr2)**-1)"
   ]
  },
  {
   "cell_type": "code",
   "execution_count": 69,
   "metadata": {},
   "outputs": [
    {
     "data": {
      "text/plain": [
       "0.07300862528492258"
      ]
     },
     "execution_count": 69,
     "metadata": {},
     "output_type": "execute_result"
    }
   ],
   "source": [
    "d_crit_two_way(df['Distance'].values, df['GenDistance'].values)"
   ]
  },
  {
   "cell_type": "code",
   "execution_count": 70,
   "metadata": {},
   "outputs": [
    {
     "data": {
      "image/png": "[encoded data removed]",
      "text/plain": [
       "<Figure size 720x360 with 1 Axes>"
      ]
     },
     "metadata": {
      "needs_background": "light"
     },
     "output_type": "display_data"
    }
   ],
   "source": [
    "plt.figure(figsize=(10, 5))\n",
    "plt.plot(x_y, x_cdf, label='sample a')\n",
    "plt.plot(x_y, y_cdf, label='sample b')\n",
    "\n",
    "for val, p1, p2 in zip(x_y, x_cdf, y_cdf):\n",
    "    plt.plot([val, val], [p1, p2], color='green', alpha=0.2)\n",
    "\n",
    "plt.legend()\n",
    "plt.ylabel(\"F(x)\")\n",
    "plt.xlabel('x')\n",
    "plt.title(\"KS Goodness of Fit for 2 Samples\")\n",
    "\n",
    "plt.show()"
   ]
  },
  {
   "cell_type": "markdown",
   "metadata": {},
   "source": [
    "### Омега"
   ]
  },
  {
   "cell_type": "code",
   "execution_count": null,
   "metadata": {},
   "outputs": [],
   "source": [
    "# Реализовать критерий Андерсена-Дарлинга"
   ]
  },
  {
   "cell_type": "markdown",
   "metadata": {},
   "source": [
    "### Шапиро-Уилка (Франча)"
   ]
  },
  {
   "cell_type": "code",
   "execution_count": null,
   "metadata": {},
   "outputs": [],
   "source": [
    "#  Оценка не смещ.дисп. через порядковые статистики (оценка Ллойда) / поделить на дисперсию  (покажут отклонение от нормального)"
   ]
  },
  {
   "cell_type": "markdown",
   "metadata": {},
   "source": [
    "# Статистическая Взаимосвязь"
   ]
  },
  {
   "cell_type": "markdown",
   "metadata": {},
   "source": [
    "Шкалы и инструменты:\n",
    "\n",
    "||номинальная|порядковая|интервальная|\n",
    "|-|:-:|:-:|:-:|\n",
    "|номинальная| не метрич.шкалы, отношения порядка нет| не метрич.шкалы, отношения порядка нет| |\n",
    "|порядковая| не метрич.шкалы, отношения порядка нет| не метрич.шкалы, есть отношение порядка между значениями|не метрич.шкалы, есть отношение порядка между значениями |\n",
    "|интервальная| | не метрич.шкалы, есть отношение порядка между значениями|не метрич.шкалы, есть отношение порядка между значениями |\n",
    "    "
   ]
  },
  {
   "cell_type": "markdown",
   "metadata": {},
   "source": [
    "### Корреляция Пирсона"
   ]
  },
  {
   "cell_type": "code",
   "execution_count": 15,
   "metadata": {},
   "outputs": [
    {
     "data": {
      "text/plain": [
       "(0.925733500863096, 1.904501955942865e-294)"
      ]
     },
     "execution_count": 15,
     "metadata": {},
     "output_type": "execute_result"
    }
   ],
   "source": [
    "# подходит для метрических шкал (только для линейных связей )\n",
    "# r > 0 - прямая зависимость\n",
    "# r < 0 - обратная зависимость\n",
    "stats.pearsonr(df['Distance'].values, df['GenDistance'].values)"
   ]
  },
  {
   "cell_type": "code",
   "execution_count": 16,
   "metadata": {},
   "outputs": [
    {
     "data": {
      "text/plain": [
       "1.904501955942865e-294"
      ]
     },
     "execution_count": 16,
     "metadata": {},
     "output_type": "execute_result"
    }
   ],
   "source": [
    "# p-value по пирсану\n",
    "n = len(df['Distance'].values)\n",
    "r = stats.pearsonr(df['Distance'].values, df['GenDistance'].values)[0]\n",
    "dist = stats.beta(n/2 - 1, n/2 - 1, loc=-1, scale=2)\n",
    "p = 2*dist.cdf(-abs(r))\n",
    "p"
   ]
  },
  {
   "cell_type": "code",
   "execution_count": 17,
   "metadata": {},
   "outputs": [
    {
     "name": "stdout",
     "output_type": "stream",
     "text": [
      "Pearson r -  0.925733500863096 | P-value -  1.904501955942865e-294\n"
     ]
    }
   ],
   "source": [
    "pr, p = stats.pearsonr(df['Distance'].values, df['GenDistance'].values)\n",
    "print('Pearson r - ', pr, '| P-value - ', p)"
   ]
  },
  {
   "cell_type": "markdown",
   "metadata": {},
   "source": [
    "### Коэф. ранговой корреляции (Спирман)"
   ]
  },
  {
   "cell_type": "code",
   "execution_count": 19,
   "metadata": {},
   "outputs": [
    {
     "name": "stdout",
     "output_type": "stream",
     "text": [
      "Spearman r -  0.9999999281984621 | P-value -  0.0\n"
     ]
    }
   ],
   "source": [
    "sp, p = stats.spearmanr(df['Distance'].values, df['GenDistance'].values)\n",
    "print('Spearman r - ', sp, '| P-value - ', p)"
   ]
  },
  {
   "cell_type": "markdown",
   "metadata": {},
   "source": [
    "### Коэф. порядковой корреляции (Кендалл тау)"
   ]
  },
  {
   "cell_type": "code",
   "execution_count": 23,
   "metadata": {},
   "outputs": [
    {
     "name": "stdout",
     "output_type": "stream",
     "text": [
      "Kendall Tau r -  0.9999833658392546 | P-value -  0.0\n"
     ]
    }
   ],
   "source": [
    "ktau, p = stats.kendalltau(df['Distance'].values, df['GenDistance'].values)\n",
    "print('Kendall Tau r - ', ktau, '| P-value - ', p)"
   ]
  },
  {
   "cell_type": "markdown",
   "metadata": {},
   "source": [
    "### Проверка значимости выборочных коэф.кор"
   ]
  },
  {
   "cell_type": "code",
   "execution_count": 25,
   "metadata": {},
   "outputs": [
    {
     "name": "stdout",
     "output_type": "stream",
     "text": [
      "Type - Positive |  P-value -  0.0\n"
     ]
    }
   ],
   "source": [
    "# H0: p = 0, изменения не значительно, различие не значмое\n",
    "# H1: различие значимое (p != 0)\n",
    "\n",
    "# Шаги:\n",
    "# 1 - узнать тип распределения коэф. кор. == нормальное распределение\n",
    "# 2 - провести проеверку тестом Стьюдента (если p < 0 - то отрицательная взаимосвязь, если p > 0 - положительная взаимосвязь)\n",
    "\n",
    "tstats, p_val = stats.ttest_ind(df['Distance'].values, df['GenDistance'].values)\n",
    "\n",
    "if p_val > 0:\n",
    "    print('Type - Positive', '|', ' P-value - ', p)\n",
    "else:\n",
    "    print('Type - Negative', '|', ' P-value - ', p)"
   ]
  },
  {
   "cell_type": "markdown",
   "metadata": {},
   "source": [
    "# Таблица сопряженности"
   ]
  },
  {
   "cell_type": "markdown",
   "metadata": {},
   "source": [
    "1. строим выборку (репрезентативную)\n",
    "\n",
    "2. строим таблицу сопряженности по категориям (i - индекс строки, j - индекс столбца)\n",
    "\n",
    "|   | тип 1 | тип 2 | тип 3 | Всего | \n",
    "|:-:|:-----:|:-----:|:-----:|:-----:|\n",
    "|кат 1 | 10%| 2%    | 1%    | 13%   |\n",
    "|кат 2 | 8% | 3%    | 5%    | 16%   |\n",
    "|кат 3 | 4% | 22%   | 45%   | 71%   |\n",
    "| Всего | 22% | 27% | 51%   | 100%  |\n",
    "\n",
    "3. Делаем вывод (если есть явное выделение группы, то смотрим на группу и пытаемся понять). Если нет выделяющихся признаков, то смотрим, какие-то ещё признаки\n",
    "\n",
    "4. Если разница между группами не велика, то ищем распределение по ХИ-квадрату\n",
    "\n",
    "|   | тип 1 | тип 2 | тип 3 | Всего | \n",
    "|:-:|:-----:|:-----:|:-----:|:-----:|\n",
    "|кат 1 | 12%| 8%    | 15%   | 35%   |\n",
    "|кат 2 | 8% | 8%    | 9%    | 25%   |\n",
    "|кат 3 | 14% | 12%  | 14%   | 40%   |\n",
    "| Всего | 24% | 28% | 39%   | 100%  |"
   ]
  },
  {
   "cell_type": "code",
   "execution_count": null,
   "metadata": {},
   "outputs": [],
   "source": [
    "# 1. последовательно (определить, что с чем и для чего мы будем делать)\n",
    "# 2. создать из последовательсноти гипотезы\n",
    "# 3. определить тип гипотезы, данных, требования к критерию\n",
    "# 3.1 рассчитываем кол-во степеней свободы = (r-1) * (c-1) | r-кол-во строк, c - кол-во столбцов\n",
    "\n",
    "# 4. Применяем Xi2 для сводной таблицы (считается из ожидаемых значений и реальных)\n",
    "# 4.1. Расчитываем ожидаемые (E) = (Mi * Mj) / N   (маргинал по столбцу и строке разделенные на объем выборки)"
   ]
  },
  {
   "cell_type": "markdown",
   "metadata": {},
   "source": [
    "### Считаем E на примере таблицы\n",
    "\n",
    "\n",
    "|   | тип 1 | тип 2 | тип 3 | Всего | \n",
    "|:-:|:-----:|:-----:|:-----:|:-----:|\n",
    "|кат 1 | 10%| 2%    | 1%    | 13%   |\n",
    "|кат 2 | 8% | 3%    | 5%    | 16%   |\n",
    "|кат 3 | 4% | 22%   | 45%   | 71%   |\n",
    "| Всего | 22% | 27% | 51%   | 100%  |\n",
    "\n",
    "для первой ячейки, где 10%:\n",
    "N11_E = (22 * 13) / 100 = 2,86\n",
    "\n",
    "2,86 - это то, что мы ожидаем увидеть в данной клетке, но там 10\n",
    "\n",
    "----------------------\n",
    "\n",
    "Степени свободы:\n",
    "\n",
    "df = (r-1)*(c-1) = (3-1) * (3-1) = 4\n",
    "\n",
    "при этой степени свободы есть свои уровни значимости. При 4 pvalue =:\n",
    "\n",
    "- для 0.05 = 9,49\n",
    "- для 0.01 = 13,28\n",
    "- для 0.001 = 18,47\n",
    "\n",
    "------------------------------\n",
    "**Хи2** - считаем по каждой клетки\n",
    "\n",
    "((10 - 2.86)^2 / 2.86) + ((2 - 3.51)^2 / 3.51) + ((1 - 6.63)^2 / 6.63) + ... ((45 - 21)^2 / 36.21) = 1.852618853366964e-08\n",
    "\n",
    "**Результат:** 1.852618853366964e-08 < p == True, так как p = 9,49\n",
    "\n",
    "**Ответ:** значение много меньше, чем p, что говорит о том, что связи признаков нет\n",
    "\n",
    "\n",
    "!NB: параметр показывает, только то, что есть зависимость. Но не дает объяснений("
   ]
  },
  {
   "cell_type": "code",
   "execution_count": 27,
   "metadata": {},
   "outputs": [
    {
     "data": {
      "text/plain": [
       "(1.852618853366964e-08, 41.78023141361998)"
      ]
     },
     "execution_count": 27,
     "metadata": {},
     "output_type": "execute_result"
    }
   ],
   "source": [
    "import numpy as np\n",
    "from scipy.stats import chi2_contingency\n",
    "\n",
    "arr = np.array([[10, 2, 1],\n",
    "                [8, 3, 5],\n",
    "                [4, 22, 45]])\n",
    "chi, pv, ddof, exp = chi2_contingency(arr)\n",
    "pv, chi"
   ]
  },
  {
   "cell_type": "code",
   "execution_count": 28,
   "metadata": {},
   "outputs": [
    {
     "data": {
      "text/plain": [
       "array([[ 2.86,  3.51,  6.63],\n",
       "       [ 3.52,  4.32,  8.16],\n",
       "       [15.62, 19.17, 36.21]])"
      ]
     },
     "execution_count": 28,
     "metadata": {},
     "output_type": "execute_result"
    }
   ],
   "source": [
    "exp"
   ]
  },
  {
   "cell_type": "markdown",
   "metadata": {},
   "source": [
    "### Крамер\n",
    "\n",
    "Критерий для освобождения Хи2 от степеней свободы \n",
    "\n",
    "sqrt((chi2 / n) / (min((r-1)(c-1))))"
   ]
  },
  {
   "cell_type": "code",
   "execution_count": 32,
   "metadata": {},
   "outputs": [
    {
     "data": {
      "text/plain": [
       "0.45705706106360494"
      ]
     },
     "execution_count": 32,
     "metadata": {},
     "output_type": "execute_result"
    }
   ],
   "source": [
    "# применим к выборке \n",
    "# n - это количество элементов\n",
    "np.sqrt((chi / 100) / 2)"
   ]
  },
  {
   "cell_type": "markdown",
   "metadata": {},
   "source": [
    "**NB:** если ещё нет понимания, что визуализируем связь в данных"
   ]
  },
  {
   "cell_type": "markdown",
   "metadata": {},
   "source": [
    "# Линейная регрессия\n",
    "\n",
    "- Показывает функциональную взаимосвязь\n",
    "- Помогает предсказывать значения\n",
    "- Позволяет понять множественную взаимосвязь\n",
    "\n",
    "**y = a + bx + e**\n",
    "\n",
    "y - прогноз\n",
    "\n",
    "a - свободный параметр\n",
    "\n",
    "b - коэффициент регрессии (показывает наклон и силу фактора)\n",
    "\n",
    "x - фактор\n",
    "\n",
    "e - остатки, то, что не объяснется моделью (разброс)\n"
   ]
  },
  {
   "cell_type": "markdown",
   "metadata": {},
   "source": [
    "### Примеры фичей для Линейной регрессии"
   ]
  },
  {
   "cell_type": "markdown",
   "metadata": {},
   "source": [
    "1. Использовать стоит метрические(количественные)/ порядковые(ранговые) переменные\n",
    "2. Идеальная переменная: интервальная (количестванная), без выбросов, нормально распределенная\n",
    "3. Ещё дополнение: порядковая (только количественная) и с большим кол-вом порядков; где, можно расчитать больше-меньше (шкала от 1 до 9, имеет больше, меньше и среднее | но если взять группу, которая отображает какую-то группу, например, тип жилья, то считать меньше-больше нельзя)\n",
    "4. Бинарные переменные ( но при хорошем распределении целевой по 1 и 0)\n",
    "5. Проверить на корреляции\n",
    "6. Категориальные переменные должны создаваться на 1 меньше, чем категорий (OHE) - проблема мультиколлинеарности"
   ]
  },
  {
   "cell_type": "code",
   "execution_count": 4,
   "metadata": {},
   "outputs": [
    {
     "data": {
      "text/html": [
       "<div>\n",
       "<style scoped>\n",
       "    .dataframe tbody tr th:only-of-type {\n",
       "        vertical-align: middle;\n",
       "    }\n",
       "\n",
       "    .dataframe tbody tr th {\n",
       "        vertical-align: top;\n",
       "    }\n",
       "\n",
       "    .dataframe thead th {\n",
       "        text-align: right;\n",
       "    }\n",
       "</style>\n",
       "<table border=\"1\" class=\"dataframe\">\n",
       "  <thead>\n",
       "    <tr style=\"text-align: right;\">\n",
       "      <th></th>\n",
       "      <th>Distance</th>\n",
       "      <th>Class</th>\n",
       "      <th>GenDistance</th>\n",
       "      <th>Gender</th>\n",
       "    </tr>\n",
       "  </thead>\n",
       "  <tbody>\n",
       "    <tr>\n",
       "      <th>0</th>\n",
       "      <td>693.187252</td>\n",
       "      <td>music</td>\n",
       "      <td>699</td>\n",
       "      <td>0</td>\n",
       "    </tr>\n",
       "    <tr>\n",
       "      <th>1</th>\n",
       "      <td>695.476117</td>\n",
       "      <td>math</td>\n",
       "      <td>704</td>\n",
       "      <td>1</td>\n",
       "    </tr>\n",
       "    <tr>\n",
       "      <th>2</th>\n",
       "      <td>808.722787</td>\n",
       "      <td>art</td>\n",
       "      <td>719</td>\n",
       "      <td>1</td>\n",
       "    </tr>\n",
       "    <tr>\n",
       "      <th>3</th>\n",
       "      <td>862.737524</td>\n",
       "      <td>music</td>\n",
       "      <td>783</td>\n",
       "      <td>1</td>\n",
       "    </tr>\n",
       "    <tr>\n",
       "      <th>4</th>\n",
       "      <td>894.073869</td>\n",
       "      <td>art</td>\n",
       "      <td>828</td>\n",
       "      <td>0</td>\n",
       "    </tr>\n",
       "  </tbody>\n",
       "</table>\n",
       "</div>"
      ],
      "text/plain": [
       "     Distance  Class  GenDistance  Gender\n",
       "0  693.187252  music          699       0\n",
       "1  695.476117   math          704       1\n",
       "2  808.722787    art          719       1\n",
       "3  862.737524  music          783       1\n",
       "4  894.073869    art          828       0"
      ]
     },
     "execution_count": 4,
     "metadata": {},
     "output_type": "execute_result"
    }
   ],
   "source": [
    "df_to_regressor = df.copy()\n",
    "df_to_regressor.head(5)"
   ]
  },
  {
   "cell_type": "code",
   "execution_count": 5,
   "metadata": {},
   "outputs": [],
   "source": [
    "df_to_regressor['math'] = df_to_regressor['Class'].apply(lambda x: 1 if x == 'math' else 0)\n",
    "df_to_regressor['art'] = df_to_regressor['Class'].apply(lambda x: 1 if x == 'art' else 0)\n",
    "\n",
    "df_to_regressor['music'] = df_to_regressor['Class'].apply(lambda x: 1 if x == 'music' else 0)\n",
    "\n",
    "Xs = df_to_regressor.drop(['Class', 'Distance'], axis = 1)\n",
    "Y = df_to_regressor['Distance']"
   ]
  },
  {
   "cell_type": "code",
   "execution_count": 6,
   "metadata": {},
   "outputs": [
    {
     "data": {
      "image/png": "[encoded data removed]",
      "text/plain": [
       "<Figure size 360x360 with 1 Axes>"
      ]
     },
     "metadata": {
      "needs_background": "light"
     },
     "output_type": "display_data"
    }
   ],
   "source": [
    "sns.lmplot(x='GenDistance',\n",
    "           y='Distance',\n",
    "           data=df_to_regressor);"
   ]
  },
  {
   "cell_type": "code",
   "execution_count": 7,
   "metadata": {},
   "outputs": [
    {
     "data": {
      "text/plain": [
       "<AxesSubplot:xlabel='GenDistance', ylabel='Distance'>"
      ]
     },
     "execution_count": 7,
     "metadata": {},
     "output_type": "execute_result"
    },
    {
     "data": {
      "image/png": "[encoded data removed]",
      "text/plain": [
       "<Figure size 432x288 with 1 Axes>"
      ]
     },
     "metadata": {
      "needs_background": "light"
     },
     "output_type": "display_data"
    }
   ],
   "source": [
    "sns.scatterplot(data=df_to_regressor, x=\"GenDistance\", y=\"Distance\", hue=\"Gender\",  style=\"Gender\")"
   ]
  },
  {
   "cell_type": "code",
   "execution_count": 8,
   "metadata": {},
   "outputs": [
    {
     "data": {
      "text/plain": [
       "0.8924064375260043"
      ]
     },
     "execution_count": 8,
     "metadata": {},
     "output_type": "execute_result"
    }
   ],
   "source": [
    "# пример много факторной регресси\n",
    "from sklearn.linear_model import LinearRegression\n",
    "\n",
    "#\n",
    "# Учится на основе метода наименьших квадратов (min least square)\n",
    "#\n",
    "reg = LinearRegression().fit(Xs, Y)\n",
    "\n",
    "# return R2\n",
    "reg.score(Xs, Y)"
   ]
  },
  {
   "cell_type": "code",
   "execution_count": 9,
   "metadata": {},
   "outputs": [
    {
     "data": {
      "text/plain": [
       "array([   0.58413438,    8.30855676,  -48.4331613 , -123.84573285,\n",
       "        172.27889415])"
      ]
     },
     "execution_count": 9,
     "metadata": {},
     "output_type": "execute_result"
    }
   ],
   "source": [
    "# коэффициенты для каждого столбца (b)\n",
    "reg.coef_"
   ]
  },
  {
   "cell_type": "markdown",
   "metadata": {},
   "source": [
    "#### Качество модели"
   ]
  },
  {
   "cell_type": "code",
   "execution_count": 10,
   "metadata": {},
   "outputs": [
    {
     "data": {
      "text/plain": [
       "<AxesSubplot:ylabel='Distance'>"
      ]
     },
     "execution_count": 10,
     "metadata": {},
     "output_type": "execute_result"
    },
    {
     "data": {
      "image/png": "[encoded data removed]",
      "text/plain": [
       "<Figure size 432x288 with 1 Axes>"
      ]
     },
     "metadata": {
      "needs_background": "light"
     },
     "output_type": "display_data"
    }
   ],
   "source": [
    "predict = reg.predict(Xs)\n",
    "\n",
    "sns.scatterplot(x=predict, y=df_to_regressor[\"Distance\"])"
   ]
  },
  {
   "cell_type": "code",
   "execution_count": 11,
   "metadata": {},
   "outputs": [
    {
     "data": {
      "text/plain": [
       "(7715643990.041687, 6885490366.372032, 830153623.6696595)"
      ]
     },
     "execution_count": 11,
     "metadata": {},
     "output_type": "execute_result"
    }
   ],
   "source": [
    "# общая дисперсия по предикту\n",
    "TSS = sum((df_to_regressor[\"Distance\"] - df_to_regressor[\"Distance\"].mean())**2)\n",
    "\n",
    "# Объясненная дисперсия\n",
    "ESS = sum((predict - df_to_regressor[\"Distance\"].mean())**2)\n",
    "\n",
    "# сумма квадратов ошибки\n",
    "RSS = sum((df_to_regressor[\"Distance\"] - predict)**2)\n",
    "TSS, ESS, RSS"
   ]
  },
  {
   "cell_type": "code",
   "execution_count": 12,
   "metadata": {},
   "outputs": [
    {
     "data": {
      "text/plain": [
       "(0.89, 0.89)"
      ]
     },
     "execution_count": 12,
     "metadata": {},
     "output_type": "execute_result"
    }
   ],
   "source": [
    "# R2\n",
    "r2_1 = 1 - (RSS/TSS)\n",
    "r2_2 = ESS/TSS\n",
    "\n",
    "# R2 - чем ближе к 1 тем лучше! Имеет значение от 0 до 1\n",
    "round(r2_1,2), round(r2_2,2)"
   ]
  },
  {
   "cell_type": "code",
   "execution_count": 13,
   "metadata": {},
   "outputs": [],
   "source": [
    "# сравним скоринг по модели и ручной расчет\n",
    "assert round(r2_1,2) == round(reg.score(Xs, Y),2)\n",
    "assert round(r2_2,2) == round(reg.score(Xs, Y),2)"
   ]
  },
  {
   "cell_type": "code",
   "execution_count": 14,
   "metadata": {},
   "outputs": [
    {
     "data": {
      "text/plain": [
       "0.8916245075661643"
      ]
     },
     "execution_count": 14,
     "metadata": {},
     "output_type": "execute_result"
    }
   ],
   "source": [
    "# корректируем коэф. R2\n",
    "# формула = 1 - (1 - R2)*(n-1 / n-k)\n",
    "r2_adj = 1 - (1-reg.score(Xs, Y))*(len(Y)-1)/(len(Y)-Xs.shape[1]-1)\n",
    "r2_adj"
   ]
  },
  {
   "cell_type": "code",
   "execution_count": 15,
   "metadata": {},
   "outputs": [
    {
     "data": {
      "text/plain": [
       "True"
      ]
     },
     "execution_count": 15,
     "metadata": {},
     "output_type": "execute_result"
    }
   ],
   "source": [
    "# должно быть меньше или равно R2\n",
    "r2_adj <= reg.score(Xs, Y)"
   ]
  },
  {
   "cell_type": "code",
   "execution_count": 16,
   "metadata": {},
   "outputs": [
    {
     "name": "stdout",
     "output_type": "stream",
     "text": [
      "0.8917818014593919\n"
     ]
    }
   ],
   "source": [
    "# сделаем расчте из библиотеки\n",
    "import statsmodels.api as sm\n",
    "\n",
    "X = sm.add_constant(Xs)\n",
    "model = sm.OLS(Y, X).fit()\n",
    "\n",
    "#скорректированный коэф. R2\n",
    "print(model.rsquared_adj)"
   ]
  },
  {
   "cell_type": "code",
   "execution_count": 17,
   "metadata": {},
   "outputs": [
    {
     "name": "stdout",
     "output_type": "stream",
     "text": [
      "                            OLS Regression Results                            \n",
      "==============================================================================\n",
      "Dep. Variable:               Distance   R-squared:                       0.892\n",
      "Model:                            OLS   Adj. R-squared:                  0.892\n",
      "Method:                 Least Squares   F-statistic:                     1429.\n",
      "Date:                Wed, 17 Mar 2021   Prob (F-statistic):               0.00\n",
      "Time:                        16:00:11   Log-Likelihood:                -5840.9\n",
      "No. Observations:                 694   AIC:                         1.169e+04\n",
      "Df Residuals:                     689   BIC:                         1.171e+04\n",
      "Df Model:                           4                                         \n",
      "Covariance Type:            nonrobust                                         \n",
      "===============================================================================\n",
      "                  coef    std err          t      P>|t|      [0.025      0.975]\n",
      "-------------------------------------------------------------------------------\n",
      "const         443.5720     68.953      6.433      0.000     308.190     578.954\n",
      "GenDistance     0.5841      0.008     74.639      0.000       0.569       0.600\n",
      "Gender          8.3086     83.687      0.099      0.921    -156.004     172.621\n",
      "math           99.4242     63.972      1.554      0.121     -26.180     225.028\n",
      "art            24.0116     61.210      0.392      0.695     -96.168     144.192\n",
      "music         320.1362     65.103      4.917      0.000     192.312     447.961\n",
      "==============================================================================\n",
      "Omnibus:                      497.591   Durbin-Watson:                   0.030\n",
      "Prob(Omnibus):                  0.000   Jarque-Bera (JB):             6873.934\n",
      "Skew:                           3.134   Prob(JB):                         0.00\n",
      "Kurtosis:                      17.086   Cond. No.                     4.44e+19\n",
      "==============================================================================\n",
      "\n",
      "Notes:\n",
      "[1] Standard Errors assume that the covariance matrix of the errors is correctly specified.\n",
      "[2] The smallest eigenvalue is 4.2e-29. This might indicate that there are\n",
      "strong multicollinearity problems or that the design matrix is singular.\n"
     ]
    }
   ],
   "source": [
    "# статистика по линейной модели (по статс.моделс) в параметре 'P>|t|'\n",
    "X = sm.add_constant(Xs)\n",
    "est = sm.OLS(Y, X)\n",
    "est2 = est.fit()\n",
    "print(est2.summary())"
   ]
  },
  {
   "cell_type": "markdown",
   "metadata": {},
   "source": [
    "### Проверка значимости параметров\n",
    "\n",
    "Для регрессии проверка делается по Критерию Стьюдента"
   ]
  },
  {
   "cell_type": "code",
   "execution_count": 18,
   "metadata": {},
   "outputs": [],
   "source": [
    "# в summary столбец 't'\n",
    "\n",
    "# хорошие признаки из таблице, все, у которых маленькое значение 'P>|t|', меньше 0.05"
   ]
  },
  {
   "cell_type": "code",
   "execution_count": 19,
   "metadata": {},
   "outputs": [
    {
     "data": {
      "text/plain": [
       "0.8916890034601099"
      ]
     },
     "execution_count": 19,
     "metadata": {},
     "output_type": "execute_result"
    }
   ],
   "source": [
    "# оставляем нужные признак\n",
    "# удаляем Gender, math, music         \n",
    "\n",
    "Xs_best = df_to_regressor.drop(['Class', 'Distance', 'Gender', 'math', 'music'], axis = 1)\n",
    "Y = df_to_regressor['Distance']\n",
    "\n",
    "reg = LinearRegression().fit(Xs_best, Y)\n",
    "\n",
    "# return R2\n",
    "reg.score(Xs_best, Y)"
   ]
  },
  {
   "cell_type": "code",
   "execution_count": 20,
   "metadata": {},
   "outputs": [
    {
     "name": "stdout",
     "output_type": "stream",
     "text": [
      "                            OLS Regression Results                            \n",
      "==============================================================================\n",
      "Dep. Variable:               Distance   R-squared:                       0.892\n",
      "Model:                            OLS   Adj. R-squared:                  0.891\n",
      "Method:                 Least Squares   F-statistic:                     2844.\n",
      "Date:                Wed, 17 Mar 2021   Prob (F-statistic):               0.00\n",
      "Time:                        16:00:11   Log-Likelihood:                -5843.2\n",
      "No. Observations:                 694   AIC:                         1.169e+04\n",
      "Df Residuals:                     691   BIC:                         1.171e+04\n",
      "Df Model:                           2                                         \n",
      "Covariance Type:            nonrobust                                         \n",
      "===============================================================================\n",
      "                  coef    std err          t      P>|t|      [0.025      0.975]\n",
      "-------------------------------------------------------------------------------\n",
      "const         651.0654     93.156      6.989      0.000     468.162     833.969\n",
      "GenDistance     0.5846      0.008     74.740      0.000       0.569       0.600\n",
      "art          -183.4005     88.361     -2.076      0.038    -356.889      -9.912\n",
      "==============================================================================\n",
      "Omnibus:                      503.844   Durbin-Watson:                   0.016\n",
      "Prob(Omnibus):                  0.000   Jarque-Bera (JB):             7124.689\n",
      "Skew:                           3.181   Prob(JB):                         0.00\n",
      "Kurtosis:                      17.349   Cond. No.                     2.82e+04\n",
      "==============================================================================\n",
      "\n",
      "Notes:\n",
      "[1] Standard Errors assume that the covariance matrix of the errors is correctly specified.\n",
      "[2] The condition number is large, 2.82e+04. This might indicate that there are\n",
      "strong multicollinearity or other numerical problems.\n"
     ]
    }
   ],
   "source": [
    "# новая статистика\n",
    "X = sm.add_constant(Xs_best)\n",
    "est = sm.OLS(Y, X)\n",
    "est2 = est.fit()\n",
    "print(est2.summary())"
   ]
  },
  {
   "cell_type": "markdown",
   "metadata": {},
   "source": [
    "### VIF\n",
    "\n",
    "VIF = 1 / (1 - R2)\n",
    "\n",
    "Поиск мультиколлинеарности"
   ]
  },
  {
   "cell_type": "code",
   "execution_count": 22,
   "metadata": {},
   "outputs": [
    {
     "data": {
      "text/plain": [
       "GenDistance    1.016581\n",
       "Gender         1.005153\n",
       "math           2.352164\n",
       "art            2.171709\n",
       "music          2.348622\n",
       "dtype: float64"
      ]
     },
     "execution_count": 22,
     "metadata": {},
     "output_type": "execute_result"
    }
   ],
   "source": [
    "# VIF - фактор, который показывает степень проблемы с мультиколлинеарностью\n",
    "# 1 - проблем нет\n",
    "# >10 - выявляется мультиколлинеарность\n",
    "\n",
    "from statsmodels.stats.outliers_influence import variance_inflation_factor\n",
    "\n",
    "pd.Series([variance_inflation_factor(Xs.values, i) for i in range(Xs.shape[1])], \n",
    "           index=Xs.columns)"
   ]
  },
  {
   "cell_type": "code",
   "execution_count": 28,
   "metadata": {},
   "outputs": [
    {
     "data": {
      "text/html": [
       "<div>\n",
       "<style scoped>\n",
       "    .dataframe tbody tr th:only-of-type {\n",
       "        vertical-align: middle;\n",
       "    }\n",
       "\n",
       "    .dataframe tbody tr th {\n",
       "        vertical-align: top;\n",
       "    }\n",
       "\n",
       "    .dataframe thead th {\n",
       "        text-align: right;\n",
       "    }\n",
       "</style>\n",
       "<table border=\"1\" class=\"dataframe\">\n",
       "  <thead>\n",
       "    <tr style=\"text-align: right;\">\n",
       "      <th></th>\n",
       "      <th>VIF</th>\n",
       "      <th>Tolerance</th>\n",
       "    </tr>\n",
       "  </thead>\n",
       "  <tbody>\n",
       "    <tr>\n",
       "      <th>GenDistance</th>\n",
       "      <td>1.009512</td>\n",
       "      <td>0.990578</td>\n",
       "    </tr>\n",
       "    <tr>\n",
       "      <th>Gender</th>\n",
       "      <td>1.005153</td>\n",
       "      <td>0.994873</td>\n",
       "    </tr>\n",
       "    <tr>\n",
       "      <th>math</th>\n",
       "      <td>0.000000</td>\n",
       "      <td>0.000000</td>\n",
       "    </tr>\n",
       "    <tr>\n",
       "      <th>art</th>\n",
       "      <td>0.000000</td>\n",
       "      <td>0.000000</td>\n",
       "    </tr>\n",
       "    <tr>\n",
       "      <th>music</th>\n",
       "      <td>0.000000</td>\n",
       "      <td>0.000000</td>\n",
       "    </tr>\n",
       "  </tbody>\n",
       "</table>\n",
       "</div>"
      ],
      "text/plain": [
       "                  VIF  Tolerance\n",
       "GenDistance  1.009512   0.990578\n",
       "Gender       1.005153   0.994873\n",
       "math         0.000000   0.000000\n",
       "art          0.000000   0.000000\n",
       "music        0.000000   0.000000"
      ]
     },
     "execution_count": 28,
     "metadata": {},
     "output_type": "execute_result"
    }
   ],
   "source": [
    "# VIF из регрессии\n",
    "def sklearn_vif(exogs, data):\n",
    "\n",
    "    # словари данных\n",
    "    vif_dict, tolerance_dict = {}, {}\n",
    "\n",
    "    # поиск по данным\n",
    "    for exog in exogs:\n",
    "        not_exog = [i for i in exogs if i != exog]\n",
    "        X, y = data[not_exog], data[exog]\n",
    "\n",
    "        # обучаем и получаем R2\n",
    "        r_squared = LinearRegression().fit(X, y).score(X, y)\n",
    "        \n",
    "        # считаем VIF\n",
    "        if r_squared != 1:\n",
    "            vif = 1/(1 - r_squared)\n",
    "            vif_dict[exog] = vif\n",
    "        else:\n",
    "            vif_dict[exog] = 0\n",
    "            \n",
    "\n",
    "        # расчет толиранц\n",
    "        tolerance = 1 - r_squared\n",
    "        tolerance_dict[exog] = tolerance\n",
    "\n",
    "    return pd.DataFrame({'VIF': vif_dict, 'Tolerance': tolerance_dict})\n",
    "\n",
    "sklearn_vif(exogs=Xs.columns, data=Xs)"
   ]
  },
  {
   "cell_type": "markdown",
   "metadata": {},
   "source": [
    "### Проверка предположений о модели\n",
    "\n",
    "Работа с ошибкой `e`"
   ]
  },
  {
   "cell_type": "code",
   "execution_count": 48,
   "metadata": {},
   "outputs": [
    {
     "data": {
      "text/plain": [
       "0      -366.502356\n",
       "1      -367.136411\n",
       "2       -79.258020\n",
       "3      -246.057141\n",
       "4       -57.626594\n",
       "          ...     \n",
       "689    6154.938279\n",
       "690    6216.419756\n",
       "691    6516.199435\n",
       "692    6926.283607\n",
       "693    7364.383032\n",
       "Length: 694, dtype: float64"
      ]
     },
     "execution_count": 48,
     "metadata": {},
     "output_type": "execute_result"
    }
   ],
   "source": [
    "# получим остатки resid = (fit - predict)\n",
    "X = sm.add_constant(Xs_best)\n",
    "est = sm.OLS(Y, X).fit()\n",
    "resid = est.resid\n",
    "resid"
   ]
  },
  {
   "cell_type": "code",
   "execution_count": 49,
   "metadata": {},
   "outputs": [
    {
     "data": {
      "image/png": "[encoded data removed]",
      "text/plain": [
       "<Figure size 432x288 with 1 Axes>"
      ]
     },
     "execution_count": 49,
     "metadata": {},
     "output_type": "execute_result"
    },
    {
     "data": {
      "image/png": "[encoded data removed]",
      "text/plain": [
       "<Figure size 432x288 with 1 Axes>"
      ]
     },
     "metadata": {
      "needs_background": "light"
     },
     "output_type": "display_data"
    }
   ],
   "source": [
    "from statsmodels.graphics.gofplots import qqplot\n",
    "\n",
    "qqplot(resid)"
   ]
  },
  {
   "cell_type": "code",
   "execution_count": 30,
   "metadata": {},
   "outputs": [],
   "source": [
    "# проверка статистикой Андерсона-Дарлинга\n",
    "from statsmodels.stats import diagnostic"
   ]
  },
  {
   "cell_type": "code",
   "execution_count": 50,
   "metadata": {},
   "outputs": [
    {
     "data": {
      "text/plain": [
       "37.4686718796529"
      ]
     },
     "execution_count": 50,
     "metadata": {},
     "output_type": "execute_result"
    }
   ],
   "source": [
    "ad2 = diagnostic.anderson_statistic(resid)\n",
    "ad2"
   ]
  },
  {
   "cell_type": "code",
   "execution_count": 51,
   "metadata": {},
   "outputs": [
    {
     "data": {
      "text/plain": [
       "0.0"
      ]
     },
     "execution_count": 51,
     "metadata": {},
     "output_type": "execute_result"
    }
   ],
   "source": [
    "ad2, pvalue = diagnostic.normal_ad(resid)\n",
    "pvalue"
   ]
  },
  {
   "cell_type": "markdown",
   "metadata": {},
   "source": [
    "**Вывод по Андерсону - Дарлингу:**\n",
    "    - статистика по АД > 37 и pvalue = 0.0, гипотеза о согласии с нормальным распределением отвергается"
   ]
  },
  {
   "cell_type": "code",
   "execution_count": 55,
   "metadata": {},
   "outputs": [
    {
     "data": {
      "text/plain": [
       "1.9683939170517946"
      ]
     },
     "execution_count": 55,
     "metadata": {},
     "output_type": "execute_result"
    }
   ],
   "source": [
    "# Дарбина - Уотсона\n",
    "from statsmodels.stats.stattools import durbin_watson\n",
    "\n",
    "def dw(data):\n",
    "    ols_res = sm.OLS(data, np.ones(len(data))).fit()\n",
    "    return durbin_watson(ols_res.resid)\n",
    "\n",
    "# если автокорреляции 0, то DW к 2\n",
    "# если автокорреляции положительная, то DW к 0\n",
    "# если автокорреляции отрицательная, то DW к 4\n",
    "\n",
    "# получаем правильный результат\n",
    "2 * (1 -dw(resid))"
   ]
  },
  {
   "cell_type": "markdown",
   "metadata": {},
   "source": [
    "**Вывод по Дарбину-Уотсона:**\n",
    "    - статистика стримится к 2, что означает = автокорреляция равна 0"
   ]
  },
  {
   "cell_type": "code",
   "execution_count": 57,
   "metadata": {},
   "outputs": [
    {
     "data": {
      "text/plain": [
       "<seaborn.axisgrid.FacetGrid at 0x273dba73310>"
      ]
     },
     "execution_count": 57,
     "metadata": {},
     "output_type": "execute_result"
    },
    {
     "data": {
      "image/png": "[encoded data removed]",
      "text/plain": [
       "<Figure size 360x360 with 1 Axes>"
      ]
     },
     "metadata": {
      "needs_background": "light"
     },
     "output_type": "display_data"
    }
   ],
   "source": [
    "sns.displot(resid)"
   ]
  }
 ],
 "metadata": {
  "kernelspec": {
   "display_name": "Python 3",
   "language": "python",
   "name": "python3"
  },
  "language_info": {
   "codemirror_mode": {
    "name": "ipython",
    "version": 3
   },
   "file_extension": ".py",
   "mimetype": "text/x-python",
   "name": "python",
   "nbconvert_exporter": "python",
   "pygments_lexer": "ipython3",
   "version": "3.7.10"
  },
  "toc-autonumbering": true,
  "toc-showcode": false,
  "toc-showmarkdowntxt": false,
  "toc-showtags": false
 },
 "nbformat": 4,
 "nbformat_minor": 4
}
